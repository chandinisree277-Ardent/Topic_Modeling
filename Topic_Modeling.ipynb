{
  "nbformat": 4,
  "nbformat_minor": 0,
  "metadata": {
    "colab": {
      "provenance": []
    },
    "kernelspec": {
      "name": "python3",
      "display_name": "Python 3"
    },
    "language_info": {
      "name": "python"
    }
  },
  "cells": [
    {
      "cell_type": "code",
      "execution_count": null,
      "metadata": {
        "id": "94XfefJ5ECUY"
      },
      "outputs": [],
      "source": [
        "#Implement topic modeling using latent dirichlet allocation(LDA) in python\n",
        "!pip install --upgrade numpy\n",
        "!pip install --upgrade --force-reinstall gensim\n",
        "import gensim\n",
        "from gensim import corpora\n",
        "from nltk.corpus import stopwords\n",
        "from nltk.tokenize import word_tokenize\n",
        "import nltk\n",
        "\n",
        "# Download necessary NLTK data\n",
        "nltk.download('punkt')\n",
        "nltk.download('stopwords')\n",
        "nltk.download('punkt_tab')\n",
        "\n",
        "# Sample corpus\n",
        "documents = [\n",
        "    \"This is a document about machine learning.\",\n",
        "    \"Another document discussing artificial intelligence.\",\n",
        "    \"This document focuses on natural language processing.\",\n",
        "    \"A document related to deep learning and neural networks.\",\n",
        "    \"This document explores the field of data science.\"\n",
        "]\n",
        "\n",
        "# Preprocessing\n",
        "stop_words = set(stopwords.words(\"english\"))\n",
        "processed_docs = [\n",
        "    [word.lower() for word in word_tokenize(doc) if word.isalpha() and word.lower() not in stop_words]\n",
        "    for doc in documents\n",
        "]\n",
        "\n",
        "# Create a dictionary and corpus\n",
        "dictionary = corpora.Dictionary(processed_docs)\n",
        "corpus = [dictionary.doc2bow(doc) for doc in processed_docs]\n",
        "\n",
        "# LDA model\n",
        "lda_model = gensim.models.LdaModel(\n",
        "    corpus=corpus,\n",
        "    id2word=dictionary,\n",
        "    num_topics=2,  # Specify the number of topics\n",
        "    random_state=42,\n",
        "    passes=10\n",
        ")"
      ]
    },
    {
      "cell_type": "code",
      "source": [
        "# Display topics\n",
        "topics = lda_model.print_topics(num_words=5)\n",
        "for idx, topic in topics:\n",
        "    print(f\"Topic {idx + 1}: {topic}\")"
      ],
      "metadata": {
        "id": "EX_eeERWEI5l"
      },
      "execution_count": null,
      "outputs": []
    }
  ]
}